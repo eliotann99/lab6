{
 "cells": [
  {
   "cell_type": "code",
   "execution_count": 11,
   "metadata": {},
   "outputs": [
    {
     "name": "stdout",
     "output_type": "stream",
     "text": [
      "Hello!\n"
     ]
    },
    {
     "name": "stdin",
     "output_type": "stream",
     "text": [
      "Please enter your name Elio\n"
     ]
    },
    {
     "name": "stdout",
     "output_type": "stream",
     "text": [
      "Hi, Elio\n"
     ]
    },
    {
     "name": "stdin",
     "output_type": "stream",
     "text": [
      "Enter any string that you would like to know how many characters are in it Test Run\n"
     ]
    },
    {
     "name": "stdout",
     "output_type": "stream",
     "text": [
      "there are 7 letters in the string that you have entered.\n"
     ]
    }
   ],
   "source": [
    "counter = 0\n",
    "print(\"Hello!\")\n",
    "name = input(\"Please enter your name\")\n",
    "print(\"Hi, \" + name)\n",
    "\n",
    "word = input(\"Enter any string that you would like to know how many characters are in it\")\n",
    "\n",
    "for char in word:\n",
    "    if char == \" \":\n",
    "        continue\n",
    "    elif char != \"\\n\":\n",
    "        counter += 1\n",
    "    else :\n",
    "        break\n",
    "        \n",
    "print(\"there are\" , counter ,\"letters in the string that you have entered.\")"
   ]
  },
  {
   "cell_type": "markdown",
   "metadata": {},
   "source": [
    "In our code, the program asks the user for 2 types of data. First, it asks for their name, which when they type that in, it allows them to view a print statement that says \"Hi, \" and then their name. Last, the program asks for the users to ent"
   ]
  }
 ],
 "metadata": {
  "kernelspec": {
   "display_name": "Python 3",
   "language": "python",
   "name": "python3"
  },
  "language_info": {
   "codemirror_mode": {
    "name": "ipython",
    "version": 3
   },
   "file_extension": ".py",
   "mimetype": "text/x-python",
   "name": "python",
   "nbconvert_exporter": "python",
   "pygments_lexer": "ipython3",
   "version": "3.8.3"
  }
 },
 "nbformat": 4,
 "nbformat_minor": 4
}
